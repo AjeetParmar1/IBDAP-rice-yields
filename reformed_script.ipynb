{
 "cells": [
  {
   "cell_type": "markdown",
   "id": "77bbdbb9-bad0-4dbe-b85a-9af78f2eff3b",
   "metadata": {},
   "source": [
    "Script"
   ]
  },
  {
   "cell_type": "code",
   "execution_count": 79,
   "id": "69813814-db27-4b93-b447-2ef0bfeedb8b",
   "metadata": {},
   "outputs": [
    {
     "data": {
      "text/plain": [
       "<KeysViewHDF5 ['nv', 'lonv', 'latv', 'time', 'lon', 'lat', 'time_bnds', 'lon_bnds', 'lat_bnds', 'precipitation', 'randomError', 'gaugeRelativeWeighting', 'probabilityLiquidPrecipitation', 'precipitationQualityIndex']>"
      ]
     },
     "execution_count": 79,
     "metadata": {},
     "output_type": "execute_result"
    }
   ],
   "source": [
    "import h5py\n",
    "import numpy as np\n",
    "import pandas as pd\n",
    "import itertools\n",
    "dataset = h5py.File('newdata/3B-MO.MS.MRG.3IMERG.20210901-S000000-E235959.09.V06B.HDF5', 'r')\n",
    "grid = dataset['Grid']\n",
    "grid.keys()"
   ]
  },
  {
   "cell_type": "code",
   "execution_count": 80,
   "id": "304f5177-0f1d-41c8-8963-e45683957fff",
   "metadata": {},
   "outputs": [
    {
     "data": {
      "text/html": [
       "<div>\n",
       "<style scoped>\n",
       "    .dataframe tbody tr th:only-of-type {\n",
       "        vertical-align: middle;\n",
       "    }\n",
       "\n",
       "    .dataframe tbody tr th {\n",
       "        vertical-align: top;\n",
       "    }\n",
       "\n",
       "    .dataframe thead th {\n",
       "        text-align: right;\n",
       "    }\n",
       "</style>\n",
       "<table border=\"1\" class=\"dataframe\">\n",
       "  <thead>\n",
       "    <tr style=\"text-align: right;\">\n",
       "      <th></th>\n",
       "      <th>lon</th>\n",
       "      <th>lat</th>\n",
       "      <th>prec</th>\n",
       "    </tr>\n",
       "  </thead>\n",
       "  <tbody>\n",
       "    <tr>\n",
       "      <th>0</th>\n",
       "      <td>-179.949997</td>\n",
       "      <td>-89.949997</td>\n",
       "      <td>-9999.900391</td>\n",
       "    </tr>\n",
       "    <tr>\n",
       "      <th>1</th>\n",
       "      <td>-179.949997</td>\n",
       "      <td>-89.849998</td>\n",
       "      <td>-9999.900391</td>\n",
       "    </tr>\n",
       "    <tr>\n",
       "      <th>2</th>\n",
       "      <td>-179.949997</td>\n",
       "      <td>-89.750000</td>\n",
       "      <td>-9999.900391</td>\n",
       "    </tr>\n",
       "    <tr>\n",
       "      <th>3</th>\n",
       "      <td>-179.949997</td>\n",
       "      <td>-89.650002</td>\n",
       "      <td>-9999.900391</td>\n",
       "    </tr>\n",
       "    <tr>\n",
       "      <th>4</th>\n",
       "      <td>-179.949997</td>\n",
       "      <td>-89.550003</td>\n",
       "      <td>-9999.900391</td>\n",
       "    </tr>\n",
       "  </tbody>\n",
       "</table>\n",
       "</div>"
      ],
      "text/plain": [
       "          lon        lat         prec\n",
       "0 -179.949997 -89.949997 -9999.900391\n",
       "1 -179.949997 -89.849998 -9999.900391\n",
       "2 -179.949997 -89.750000 -9999.900391\n",
       "3 -179.949997 -89.650002 -9999.900391\n",
       "4 -179.949997 -89.550003 -9999.900391"
      ]
     },
     "execution_count": 80,
     "metadata": {},
     "output_type": "execute_result"
    }
   ],
   "source": [
    "longitude_values = np.repeat(list(grid['lon']), 1800)\n",
    "latitude_values = list(grid['lat'])*3600\n",
    "precipitation_values = np.array(list(grid['precipitation'])).flatten()\n",
    "\n",
    "dataset = pd.DataFrame({\"lon\": longitude_values, \"lat\": latitude_values, \"precipitation\": precipitation_values})\n",
    "# dataset.columns = [grid['lon'].attrs['standard_name'].decode() + \" (\" + grid['lon'].attrs['units'].decode() + \")\",\n",
    "#                    grid['lat'].attrs['standard_name'].decode() + \" (\" + grid['lat'].attrs['units'].decode() + \")\",\n",
    "#                    \"Precipitation (\" + grid['precipitation'].attrs['units'].decode() + \")\",]\n",
    "dataset.columns = [\"lon\", \"lat\", \"prec\"]\n",
    "dataset.head()\n",
    "#Longitude = degrees east\n",
    "#latitude = degrees north\n"
   ]
  },
  {
   "cell_type": "code",
   "execution_count": 81,
   "id": "0b554c3d-dff5-49bc-8df5-cdde1e22b2d8",
   "metadata": {},
   "outputs": [],
   "source": [
    "dataset['Precipitation (mm/hr)'] = dataset[\"prec\"].mask(\n",
    "                                    dataset[\"prec\"] == -9999.900391, 0)"
   ]
  },
  {
   "cell_type": "markdown",
   "id": "85603997-0eb1-46a4-a4a9-e5a753d8d3dc",
   "metadata": {},
   "source": [
    "experimenting with decomposing values into a list"
   ]
  },
  {
   "cell_type": "code",
   "execution_count": 82,
   "id": "0d28ad35-3dd2-4672-b0e0-51db001f04d1",
   "metadata": {},
   "outputs": [],
   "source": [
    "dataset_Shanghai_jan = dataset[(29.8760 < dataset['lat']) &(dataset['lat']  < 35.1181) & (114.7346 < dataset['lon'])\n",
    "                               & (dataset['lon']< 121.7043)]\n",
    "dataset_Shanghai_jan.to_csv(\"data/Ssep.csv\", index = False)\n"
   ]
  },
  {
   "cell_type": "code",
   "execution_count": 83,
   "id": "6281a53b-e9fd-4f27-a4f5-5463e336f89f",
   "metadata": {},
   "outputs": [],
   "source": [
    "dataset_Liaoning_jan = dataset[(39.2773 < dataset['lat']) &(dataset['lat']  < 39.4896) & (118.0118 < dataset['lon'])\n",
    "                               & (dataset['lon']< 118.0715)]\n",
    "dataset_Liaoning_jan.to_csv(\"data/Lsep.csv\", index = False)"
   ]
  },
  {
   "cell_type": "code",
   "execution_count": 84,
   "id": "e5c940dd-a4a2-4cf7-b02a-91aa40e2463b",
   "metadata": {},
   "outputs": [],
   "source": [
    "dataset_Jilin_Heilongjiang_jan = dataset[(44.2106 < dataset['lat']) &(dataset['lat']  < 48.3197)\n",
    "                                         & (121.9614 < dataset['lon']) & (dataset['lon']< 134.5847)]\n",
    "dataset_Shanghai_jan.to_csv(\"data/JHsep.csv\", index = False)"
   ]
  },
  {
   "cell_type": "code",
   "execution_count": null,
   "id": "ccc6d409-0260-4678-99be-0d87ab200e85",
   "metadata": {},
   "outputs": [],
   "source": []
  }
 ],
 "metadata": {
  "kernelspec": {
   "display_name": "Python 3",
   "language": "python",
   "name": "python3"
  },
  "language_info": {
   "codemirror_mode": {
    "name": "ipython",
    "version": 3
   },
   "file_extension": ".py",
   "mimetype": "text/x-python",
   "name": "python",
   "nbconvert_exporter": "python",
   "pygments_lexer": "ipython3",
   "version": "3.8.5"
  }
 },
 "nbformat": 4,
 "nbformat_minor": 5
}
